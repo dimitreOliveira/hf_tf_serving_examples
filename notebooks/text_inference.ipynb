{
 "cells": [
  {
   "cell_type": "code",
   "execution_count": 1,
   "metadata": {},
   "outputs": [
    {
     "name": "stderr",
     "output_type": "stream",
     "text": [
      "/Users/dimitreoliveira/Desktop/venvs/hf_serving/lib/python3.9/site-packages/tqdm/auto.py:22: TqdmWarning: IProgress not found. Please update jupyter and ipywidgets. See https://ipywidgets.readthedocs.io/en/stable/user_install.html\n",
      "  from .autonotebook import tqdm as notebook_tqdm\n"
     ]
    }
   ],
   "source": [
    "import json\n",
    "import requests\n",
    "import transformers"
   ]
  },
  {
   "cell_type": "code",
   "execution_count": 2,
   "metadata": {},
   "outputs": [],
   "source": [
    "tokenizer_path = \"./../tokenizers/distilbert-base-uncased\"\n",
    "tokenizer = transformers.AutoTokenizer.from_pretrained(tokenizer_path)"
   ]
  },
  {
   "cell_type": "code",
   "execution_count": 3,
   "metadata": {},
   "outputs": [],
   "source": [
    "sample_input = 'This is a random text sample'\n",
    "token_text = tokenizer(sample_input)\n",
    "dict_text = dict(token_text)"
   ]
  },
  {
   "cell_type": "markdown",
   "metadata": {},
   "source": [
    "## REST API"
   ]
  },
  {
   "cell_type": "code",
   "execution_count": 4,
   "metadata": {},
   "outputs": [],
   "source": [
    "rest_url = 'http://localhost:8501/v1/models/embedding:predict'\n",
    "json_data = {'signature_name': 'serving_default', 'instances': [dict_text]}\n",
    "\n",
    "json_response = requests.post(rest_url, json=json_data)\n",
    "pred = json.loads(json_response.text)"
   ]
  },
  {
   "cell_type": "code",
   "execution_count": 5,
   "metadata": {},
   "outputs": [
    {
     "name": "stdout",
     "output_type": "stream",
     "text": [
      "[-0.257300615, -0.368544072, 0.0161175132, -0.0743272305, -0.140929848, -0.241538957, -0.0596503168, 0.225534052, -0.115579933, -0.241339862]\n"
     ]
    }
   ],
   "source": [
    "# Sample output\n",
    "print(pred[\"predictions\"][0][0][:10])"
   ]
  }
 ],
 "metadata": {
  "kernelspec": {
   "display_name": "hf_serving",
   "language": "python",
   "name": "python3"
  },
  "language_info": {
   "codemirror_mode": {
    "name": "ipython",
    "version": 3
   },
   "file_extension": ".py",
   "mimetype": "text/x-python",
   "name": "python",
   "nbconvert_exporter": "python",
   "pygments_lexer": "ipython3",
   "version": "3.9.14"
  },
  "orig_nbformat": 4,
  "vscode": {
   "interpreter": {
    "hash": "3abaa767c7d73aec75009cb9a76cef26a4f006c10796c6bfaae2f2d4ef0a16c8"
   }
  }
 },
 "nbformat": 4,
 "nbformat_minor": 2
}
