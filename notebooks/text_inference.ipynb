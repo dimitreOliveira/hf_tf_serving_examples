{
 "cells": [
  {
   "cell_type": "code",
   "execution_count": 1,
   "metadata": {},
   "outputs": [],
   "source": [
    "import json\n",
    "import requests\n",
    "import transformers"
   ]
  },
  {
   "cell_type": "code",
   "execution_count": 2,
   "metadata": {},
   "outputs": [],
   "source": [
    "tokenizer_path = \"./../tokenizers/distilbert-base-uncased\"\n",
    "rest_url = 'http://localhost:8501/v1/models/embedding:predict'"
   ]
  },
  {
   "cell_type": "code",
   "execution_count": 3,
   "metadata": {},
   "outputs": [],
   "source": [
    "sample_input = 'This is a random text sample'"
   ]
  },
  {
   "cell_type": "code",
   "execution_count": 4,
   "metadata": {},
   "outputs": [],
   "source": [
    "tokenizer = transformers.AutoTokenizer.from_pretrained(tokenizer_path)"
   ]
  },
  {
   "cell_type": "markdown",
   "metadata": {},
   "source": [
    "## REST API"
   ]
  },
  {
   "cell_type": "code",
   "execution_count": 5,
   "metadata": {},
   "outputs": [
    {
     "name": "stdout",
     "output_type": "stream",
     "text": [
      "[-0.257300705, -0.368544042, 0.0161172897, -0.0743274391, -0.140929878, -0.241538897, -0.0596502349, 0.225533962, -0.115579851, -0.241339743]\n"
     ]
    }
   ],
   "source": [
    "token_text = tokenizer(sample_input)\n",
    "dict_text = dict(token_text)\n",
    "\n",
    "json_data = {'signature_name': 'serving_default', 'instances': [dict_text]}\n",
    "json_response = requests.post(rest_url, json=json_data)\n",
    "pred = json.loads(json_response.text)\n",
    "\n",
    "# Sample output\n",
    "print(pred[\"predictions\"][0][0][:10])"
   ]
  }
 ],
 "metadata": {
  "interpreter": {
   "hash": "31f2aee4e71d21fbe5cf8b01ff0e069b9275f58929596ceb00d14d90e3e16cd6"
  },
  "kernelspec": {
   "display_name": "Python 3.8.10 64-bit",
   "language": "python",
   "name": "python3"
  },
  "language_info": {
   "codemirror_mode": {
    "name": "ipython",
    "version": 3
   },
   "file_extension": ".py",
   "mimetype": "text/x-python",
   "name": "python",
   "nbconvert_exporter": "python",
   "pygments_lexer": "ipython3",
   "version": "3.8.10"
  },
  "orig_nbformat": 4
 },
 "nbformat": 4,
 "nbformat_minor": 2
}
