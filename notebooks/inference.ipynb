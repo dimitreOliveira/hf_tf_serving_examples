{
 "cells": [
  {
   "cell_type": "code",
   "execution_count": 1,
   "metadata": {},
   "outputs": [],
   "source": [
    "import requests\n",
    "import transformers"
   ]
  },
  {
   "cell_type": "code",
   "execution_count": 2,
   "metadata": {},
   "outputs": [],
   "source": [
    "tokenizer_path = \"./../tokenizers\"\n",
    "rest_url = 'http://localhost:8501/v1/models/multi-label:predict'\n",
    "grpc_channel = 'http://localhost:8501/v1/models/multi-label:predict'"
   ]
  },
  {
   "cell_type": "code",
   "execution_count": 3,
   "metadata": {},
   "outputs": [],
   "source": [
    "tokenizer = transformers.DistilBertTokenizer.from_pretrained(tokenizer_path)"
   ]
  },
  {
   "cell_type": "code",
   "execution_count": 4,
   "metadata": {},
   "outputs": [],
   "source": [
    "\n",
    "def predict(text):\n",
    "    tokenized_text = tokenizer(text)\n",
    "    batched_text = [dict(tokenized_text)]\n",
    "\n",
    "    json_data = {\n",
    "        'signature_name': 'serving_default', \n",
    "        'instances': batched_text\n",
    "    }\n",
    "    resp = requests.post(api_url, json=json_data)\n",
    "    return resp.json()"
   ]
  },
  {
   "cell_type": "code",
   "execution_count": 5,
   "metadata": {},
   "outputs": [],
   "source": [
    "samples = ['This is a random text sample', \n",
    "           'This is another random text sample']"
   ]
  },
  {
   "cell_type": "code",
   "execution_count": 6,
   "metadata": {},
   "outputs": [
    {
     "name": "stdout",
     "output_type": "stream",
     "text": [
      "\n",
      "This is a random text sample: [0.453261167, 0.541718125, 0.856096268, 0.31652391, 0.454491735]\n",
      "\n",
      "This is another random text sample: [0.466355026, 0.552422822, 0.869064331, 0.313056, 0.394106477]\n"
     ]
    }
   ],
   "source": [
    "for sample in samples:\n",
    "  pred = predict(sample)\n",
    "  probs = pred['predictions'][0]\n",
    "  print(f\"\\n{sample}: {probs}\")"
   ]
  }
 ],
 "metadata": {
  "interpreter": {
   "hash": "31f2aee4e71d21fbe5cf8b01ff0e069b9275f58929596ceb00d14d90e3e16cd6"
  },
  "kernelspec": {
   "display_name": "Python 3.8.10 64-bit",
   "language": "python",
   "name": "python3"
  },
  "language_info": {
   "codemirror_mode": {
    "name": "ipython",
    "version": 3
   },
   "file_extension": ".py",
   "mimetype": "text/x-python",
   "name": "python",
   "nbconvert_exporter": "python",
   "pygments_lexer": "ipython3",
   "version": "3.8.10"
  },
  "orig_nbformat": 4
 },
 "nbformat": 4,
 "nbformat_minor": 2
}
